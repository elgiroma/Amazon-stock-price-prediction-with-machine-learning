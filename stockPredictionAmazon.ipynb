{
  "nbformat": 4,
  "nbformat_minor": 0,
  "metadata": {
    "colab": {
      "name": "stockPredictionAmazon.ipynb",
      "provenance": [],
      "collapsed_sections": []
    },
    "kernelspec": {
      "name": "python3",
      "display_name": "Python 3"
    },
    "language_info": {
      "name": "python"
    }
  },
  "cells": [
    {
      "cell_type": "code",
      "metadata": {
        "id": "zLGlZoY0JGDM"
      },
      "source": [
        "import numpy as np\n",
        "import pandas as pd\n",
        "import matplotlib.pyplot as plt\n",
        "from sklearn.tree import DecisionTreeRegressor\n",
        "from sklearn.linear_model import LinearRegression\n",
        "from sklearn.svm import SVR\n",
        "from sklearn.neighbors import KNeighborsRegressor\n",
        "from sklearn.model_selection import train_test_split"
      ],
      "execution_count": 528,
      "outputs": []
    },
    {
      "cell_type": "code",
      "metadata": {
        "id": "HY_jduBeJVyA"
      },
      "source": [
        "from google.colab import files # Use to load data on Google Colab\n",
        "uploaded = files.upload() # Use to load data on Google Colab"
      ],
      "execution_count": null,
      "outputs": []
    },
    {
      "cell_type": "code",
      "metadata": {
        "id": "Ofls7KnZJlwH"
      },
      "source": [
        "df = pd.read_csv('Amazon.csv')\n",
        "df.head()"
      ],
      "execution_count": null,
      "outputs": []
    },
    {
      "cell_type": "code",
      "source": [
        "df.tail()"
      ],
      "metadata": {
        "id": "PGBrxNxGFbny"
      },
      "execution_count": null,
      "outputs": []
    },
    {
      "cell_type": "code",
      "metadata": {
        "id": "WUN9NqkWQCg1"
      },
      "source": [
        "# We'll use the last 3 years of the dataset\n",
        "df = df[df['Date'] > '2016-10-27']"
      ],
      "execution_count": 672,
      "outputs": []
    },
    {
      "cell_type": "code",
      "metadata": {
        "id": "vORr8D4YQhn9"
      },
      "source": [
        "plt.figure(figsize=(20,10))\n",
        "plt.title('Amazon stock prices', fontsize = 20)\n",
        "plt.xlabel('Days', fontsize= 20)\n",
        "plt.ylabel('Close price (usd)', fontsize = 20)\n",
        "plt.plot(df['Close'])\n",
        "plt.show()"
      ],
      "execution_count": null,
      "outputs": []
    },
    {
      "cell_type": "code",
      "metadata": {
        "id": "-yWOsHY5J9tG"
      },
      "source": [
        "# Getting only the column 'Close'\n",
        "df = df[['Close']]\n",
        "df.head()"
      ],
      "execution_count": null,
      "outputs": []
    },
    {
      "cell_type": "code",
      "metadata": {
        "id": "ZnGXgc9jJ9v9"
      },
      "source": [
        "# Days to predict into the future\n",
        "days_to_predict = 90\n",
        "# New Prediction column shifted 'x' units/days up\n",
        "df['Prediction'] = df[['Close']].shift(-days_to_predict)"
      ],
      "execution_count": null,
      "outputs": []
    },
    {
      "cell_type": "code",
      "metadata": {
        "id": "1Lv3SjRaNulG"
      },
      "source": [
        "# Convert X and Y into a numpy array and removing days_to_predict rows\n",
        "X = np.array(df.drop(['Prediction'], 1))[:-days_to_predict]\n",
        "y = np.array(df['Prediction'])[:-days_to_predict]"
      ],
      "execution_count": 676,
      "outputs": []
    },
    {
      "cell_type": "code",
      "metadata": {
        "id": "kO3Rw4gTNuqd"
      },
      "source": [
        "# Splitting train and test data\n",
        "x_train, x_test, y_train, y_test = train_test_split(X, y, test_size = 0.2)   "
      ],
      "execution_count": 677,
      "outputs": []
    },
    {
      "cell_type": "code",
      "metadata": {
        "id": "iHaBIqLfNus_"
      },
      "source": [
        "# Models\n",
        "tree = DecisionTreeRegressor().fit(x_train, y_train)\n",
        "lr = LinearRegression().fit(x_train, y_train)\n",
        "svr = SVR(kernel ='rbf', C=1e3).fit(x_train, y_train)\n",
        "kneigh = KNeighborsRegressor(n_neighbors=2).fit(x_train, y_train)"
      ],
      "execution_count": 678,
      "outputs": []
    },
    {
      "cell_type": "code",
      "metadata": {
        "id": "VcerqBuXNuvi"
      },
      "source": [
        "# Getting rows from dataset except the last \"x\" days\n",
        "future = df.drop(['Prediction'], 1)[:-days_to_predict]\n",
        "future = future.tail(days_to_predict) \n",
        "# Converting data to numpy array\n",
        "future = np.array(future)"
      ],
      "execution_count": 679,
      "outputs": []
    },
    {
      "cell_type": "code",
      "metadata": {
        "id": "AwNVdCE-Nu0t"
      },
      "source": [
        "# Getting predictions\n",
        "tree_prediction = tree.predict(future)\n",
        "lr_prediction = lr.predict(future)\n",
        "svr_prediction = svr.predict(future)\n",
        "kneigh_prediction = kneigh.predict(future)"
      ],
      "execution_count": 680,
      "outputs": []
    },
    {
      "cell_type": "code",
      "metadata": {
        "id": "M1pKBLyCJolx"
      },
      "source": [
        "#Plot Decision tree regressor prediction\n",
        "valid =  df[X.shape[0]:]\n",
        "valid['Predictions'] = tree_prediction\n",
        "plt.figure(figsize=(20,10))\n",
        "plt.plot(df['Close'].iloc[600:])\n",
        "plt.plot(valid[['Close','Predictions']])\n",
        "plt.legend(['Train', 'Valid', 'Prediction' ], loc='lower right')\n",
        "plt.title('Decision tree regressor')\n",
        "plt.xlabel('Days',fontsize=20)\n",
        "plt.ylabel('Close price (usd)',fontsize=20)\n",
        "plt.show()"
      ],
      "execution_count": null,
      "outputs": []
    },
    {
      "cell_type": "code",
      "metadata": {
        "id": "nkoMrss-Tb_k"
      },
      "source": [
        "#Plot Linear regression prediction\n",
        "valid =  df[X.shape[0]:]\n",
        "valid['Predictions'] = lr_prediction \n",
        "plt.figure(figsize=(20,10))\n",
        "plt.plot(df['Close'].iloc[600:])\n",
        "plt.plot(valid[['Close','Predictions']])\n",
        "plt.legend(['Train', 'Valid', 'Prediction' ], loc='lower right')\n",
        "plt.title('Linear regression')\n",
        "plt.xlabel('Days',fontsize=20)\n",
        "plt.ylabel('Close price (usd)',fontsize=20)\n",
        "plt.show()"
      ],
      "execution_count": null,
      "outputs": []
    },
    {
      "cell_type": "code",
      "metadata": {
        "id": "PZQRXENiTcbS"
      },
      "source": [
        "#Plot SVR prediction\n",
        "valid =  df[X.shape[0]:]\n",
        "valid['Predictions'] = svr_prediction\n",
        "plt.figure(figsize=(20,10))\n",
        "plt.plot(df['Close'].iloc[600:])\n",
        "plt.plot(valid[['Close','Predictions']])\n",
        "plt.legend(['Train', 'Valid', 'Prediction' ], loc='lower right')\n",
        "plt.title('SVR')\n",
        "plt.xlabel('Days',fontsize=20)\n",
        "plt.ylabel('Close price (usd)',fontsize=20)\n",
        "plt.show()"
      ],
      "execution_count": null,
      "outputs": []
    },
    {
      "cell_type": "code",
      "metadata": {
        "id": "cc3RK7TppQec"
      },
      "source": [
        "#Plot KNeighbor regressor prediction\n",
        "valid =  df[X.shape[0]:]\n",
        "valid['Predictions'] = kneigh_prediction\n",
        "plt.figure(figsize=(20,10))\n",
        "plt.plot(df['Close'].iloc[600:])\n",
        "plt.plot(valid[['Close','Predictions']])\n",
        "plt.legend(['Train', 'Valid', 'Prediction' ], loc='lower right')\n",
        "plt.title('KNeighbor regressor')\n",
        "plt.xlabel('Days',fontsize=20)\n",
        "plt.ylabel('Close price (usd)',fontsize=20)\n",
        "plt.show()"
      ],
      "execution_count": null,
      "outputs": []
    }
  ]
}